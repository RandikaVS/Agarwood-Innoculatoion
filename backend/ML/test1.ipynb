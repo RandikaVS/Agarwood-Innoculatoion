{
 "cells": [
  {
   "cell_type": "code",
   "execution_count": 9,
   "metadata": {},
   "outputs": [
    {
     "ename": "ValueError",
     "evalue": "invalid literal for int() with base 10: '--ip=127.0.0.1'",
     "output_type": "error",
     "traceback": [
      "\u001b[1;31m---------------------------------------------------------------------------\u001b[0m",
      "\u001b[1;31mValueError\u001b[0m                                Traceback (most recent call last)",
      "Cell \u001b[1;32mIn[9], line 30\u001b[0m\n\u001b[0;32m     27\u001b[0m     sys\u001b[39m.\u001b[39mstdout\u001b[39m.\u001b[39mflush()\n\u001b[0;32m     29\u001b[0m array\u001b[39m=\u001b[39m[\u001b[39m0\u001b[39m,\u001b[39m0\u001b[39m,\u001b[39m0\u001b[39m,\u001b[39m0\u001b[39m]\n\u001b[1;32m---> 30\u001b[0m array[\u001b[39m0\u001b[39m] \u001b[39m=\u001b[39m \u001b[39mint\u001b[39;49m(sys\u001b[39m.\u001b[39;49margv[\u001b[39m1\u001b[39;49m])\n\u001b[0;32m     31\u001b[0m array[\u001b[39m1\u001b[39m] \u001b[39m=\u001b[39m \u001b[39mint\u001b[39m(sys\u001b[39m.\u001b[39margv[\u001b[39m1\u001b[39m])\n\u001b[0;32m     32\u001b[0m array[\u001b[39m2\u001b[39m] \u001b[39m=\u001b[39m \u001b[39mint\u001b[39m(sys\u001b[39m.\u001b[39margv[\u001b[39m1\u001b[39m])\n",
      "\u001b[1;31mValueError\u001b[0m: invalid literal for int() with base 10: '--ip=127.0.0.1'"
     ]
    }
   ],
   "source": [
    "import sys\n",
    "\n",
    "\n",
    "# def test(arr):\n",
    "#     print(sys.argv[1])\n",
    "#     print(sys.argv[2])\n",
    "#     sys.stdout.flush()\n",
    "\n",
    "\n",
    "# test()\n",
    "\n",
    "def _sum(arr):\n",
    "\n",
    "    # initialize a variable\n",
    "    # to store the sum\n",
    "    # while iterating through\n",
    "    # the array later\n",
    "    sum = 0\n",
    "\n",
    "    # iterate through the array\n",
    "    # and add each element to the sum variable\n",
    "    # one at a time\n",
    "    for i in arr:\n",
    "        sum = sum + i\n",
    "\n",
    "    print(sum)\n",
    "    sys.stdout.flush()\n",
    "\n",
    "array=[0,0,0,0,0,0,0,0]\n",
    "array[0] = int(sys.argv[1])\n",
    "array[1] = int(sys.argv[2])\n",
    "array[2] = int(sys.argv[3])\n",
    "array[3] = int(sys.argv[4])\n",
    "array[4] = int(sys.argv[5])\n",
    "array[5] = int(sys.argv[6])\n",
    "array[6] = int(sys.argv[7])\n",
    "array[7] = int(sys.argv[8])\n",
    "_sum(array)\n"
   ]
  }
 ],
 "metadata": {
  "kernelspec": {
   "display_name": "Python 3",
   "language": "python",
   "name": "python3"
  },
  "language_info": {
   "codemirror_mode": {
    "name": "ipython",
    "version": 3
   },
   "file_extension": ".py",
   "mimetype": "text/x-python",
   "name": "python",
   "nbconvert_exporter": "python",
   "pygments_lexer": "ipython3",
   "version": "3.11.0"
  },
  "orig_nbformat": 4
 },
 "nbformat": 4,
 "nbformat_minor": 2
}
