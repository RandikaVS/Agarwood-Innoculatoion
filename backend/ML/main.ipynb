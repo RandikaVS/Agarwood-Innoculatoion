{
 "cells": [
  {
   "cell_type": "code",
   "execution_count": null,
   "id": "97fa287f",
   "metadata": {},
   "outputs": [],
   "source": [
    "# Width, Age, Temperature, Rain expected in 2 weeks, SoilType,WhiteRoots, PestAttacks, FloweringSeason"
   ]
  },
  {
   "cell_type": "code",
   "execution_count": 6,
   "id": "03bfd0c4",
   "metadata": {},
   "outputs": [
    {
     "name": "stdout",
     "output_type": "stream",
     "text": [
      "WARNING:tensorflow:6 out of the last 6 calls to <function Model.make_predict_function.<locals>.predict_function at 0x000002B791965E40> triggered tf.function retracing. Tracing is expensive and the excessive number of tracings could be due to (1) creating @tf.function repeatedly in a loop, (2) passing tensors with different shapes, (3) passing Python objects instead of tensors. For (1), please define your @tf.function outside of the loop. For (2), @tf.function has reduce_retracing=True option that can avoid unnecessary retracing. For (3), please refer to https://www.tensorflow.org/guide/function#controlling_retracing and https://www.tensorflow.org/api_docs/python/tf/function for  more details.\n",
      "1/1 [==============================] - 0s 109ms/step\n",
      "Prediction by model: [[0.5741463]]\n",
      "1\n"
     ]
    },
    {
     "name": "stderr",
     "output_type": "stream",
     "text": [
      "c:\\Users\\Sahan\\AppData\\Local\\Programs\\Python\\Python311\\Lib\\site-packages\\sklearn\\base.py:439: UserWarning: X does not have valid feature names, but MinMaxScaler was fitted with feature names\n",
      "  warnings.warn(\n"
     ]
    }
   ],
   "source": [
    "import pandas as pd\n",
    "import pickle\n",
    "from sklearn.preprocessing import MinMaxScaler\n",
    "# from tensorflow.keras.models import load_model\n",
    "from tensorflow import keras\n",
    "import sys\n",
    "\n",
    "array = [28, 4, 29, 0, 0, 0, 0, 0]\n",
    "# array[0] = int(sys.argv[1])\n",
    "# array[1] = int(sys.argv[2])\n",
    "# array[2] = int(sys.argv[3])\n",
    "# array[3] = int(sys.argv[4])\n",
    "# array[4] = int(sys.argv[5])\n",
    "# array[5] = int(sys.argv[6])\n",
    "# array[6] = int(sys.argv[7])\n",
    "# array[7] = int(sys.argv[8])\n",
    "\n",
    "\n",
    "with open('F:/SubProjets/Agarwood/1121/backend/ML/fit.pickle', 'rb') as file:\n",
    "        fit_data = pickle.load(file)\n",
    "\n",
    "\n",
    "        \n",
    "# Agarwood_model = load_model('Agarwood_model_bestModel.h5') # loading model  \n",
    "Agarwood_model = keras.models.load_model('F:/SubProjets/Agarwood/1121/backend/ML/Agarwood_model_bestModel.h5')\n",
    "\n",
    "\n",
    "def prediction(arr):\n",
    "\n",
    "    scalar = MinMaxScaler()\n",
    "    scalar.fit(fit_data)\n",
    "    arr = [arr]\n",
    "    arr = scalar.transform(arr)\n",
    "    data = pd.DataFrame(arr, columns =['1', '2', '3', '4', '5', '6', '7', '8'])\n",
    "    results = Agarwood_model.predict(data)\n",
    "    print(\"Prediction by model: {pred}\".format(pred=results))\n",
    "    pred_class = 1 if results > 0.5 else 0\n",
    "    print(pred_class)\n",
    "    # print(arr)\n",
    "    sys.stdout.flush()\n",
    "\n",
    "\n",
    "\n",
    "prediction(array)\n",
    "\n",
    "\n",
    "\n"
   ]
  },
  {
   "cell_type": "code",
   "execution_count": null,
   "id": "a3064509",
   "metadata": {},
   "outputs": [],
   "source": [
    "#call these arr and method in the flask app\n",
    "# arr = [25, 8, 32, 0, 2, 0, 0, 0]\n",
    "# prediction(arr)\n",
    "# test()\n"
   ]
  },
  {
   "cell_type": "code",
   "execution_count": null,
   "id": "b93a020e",
   "metadata": {},
   "outputs": [],
   "source": []
  }
 ],
 "metadata": {
  "kernelspec": {
   "display_name": "Python 3 (ipykernel)",
   "language": "python",
   "name": "python3"
  },
  "language_info": {
   "codemirror_mode": {
    "name": "ipython",
    "version": 3
   },
   "file_extension": ".py",
   "mimetype": "text/x-python",
   "name": "python",
   "nbconvert_exporter": "python",
   "pygments_lexer": "ipython3",
   "version": "3.11.3"
  }
 },
 "nbformat": 4,
 "nbformat_minor": 5
}
