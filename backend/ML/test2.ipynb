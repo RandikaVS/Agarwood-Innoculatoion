# %%
import sys


# def test(arr):
#     print(sys.argv[1])
#     print(sys.argv[2])
#     sys.stdout.flush()


# test()

def _sum(arr):

    # initialize a variable
    # to store the sum
    # while iterating through
    # the array later
    sum = 0

    # iterate through the array
    # and add each element to the sum variable
    # one at a time
    for i in arr:
        sum = sum + i

    print(sum)
    sys.stdout.flush()

array=[0,0,0,0,0,0,0,0]
array[0] = int(sys.argv[1])
array[1] = int(sys.argv[2])
array[2] = int(sys.argv[3])
array[3] = int(sys.argv[4])
array[4] = int(sys.argv[5])
array[5] = int(sys.argv[6])
array[6] = int(sys.argv[7])
array[7] = int(sys.argv[8])
_sum(array)



